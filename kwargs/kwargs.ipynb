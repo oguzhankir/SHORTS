{
 "cells": [
  {
   "cell_type": "code",
   "execution_count": 3,
   "id": "5d8fb21d",
   "metadata": {},
   "outputs": [
    {
     "name": "stdout",
     "output_type": "stream",
     "text": [
      "isim = oguzhan\n"
     ]
    }
   ],
   "source": [
    "\"\"\"\n",
    "ilk olarak *args videosunu izlemenizi tavsiye ederim\n",
    "--**kwargs--\n",
    "*args dan farkı fonksiyona anahtar-deger şeklinde\n",
    "değer yollayabilmemizdir. örneğin:\n",
    "\"\"\"\n",
    "def isim_yazdir(**kwargs):\n",
    "    for key, value in kwargs.items():\n",
    "        print(f\"{key} = {value}\")\n",
    "\n",
    "isim_yazdir(isim = \"oguzhan\")"
   ]
  },
  {
   "cell_type": "code",
   "execution_count": 4,
   "id": "c5b21fbe",
   "metadata": {},
   "outputs": [
    {
     "name": "stdout",
     "output_type": "stream",
     "text": [
      "ali\n",
      "veli\n",
      "mehmet\n",
      "key:isim, value:oguzhan\n"
     ]
    }
   ],
   "source": [
    "#birlikte kullanım\n",
    "def isim_yazdir(*args, **kwargs):\n",
    "    for arg in args:\n",
    "        print(arg)\n",
    "    \n",
    "    for key, value in kwargs.items():\n",
    "        print(f\"key:{key}, value:{value}\")\n",
    "\n",
    "isim_yazdir(\"ali\", \"veli\", \"mehmet\", isim=\"oguzhan\")"
   ]
  },
  {
   "cell_type": "code",
   "execution_count": null,
   "id": "359f7ede",
   "metadata": {},
   "outputs": [],
   "source": [
    "#izlediğiniz için teşekkürler"
   ]
  }
 ],
 "metadata": {
  "kernelspec": {
   "display_name": "Python 3",
   "language": "python",
   "name": "python3"
  },
  "language_info": {
   "codemirror_mode": {
    "name": "ipython",
    "version": 3
   },
   "file_extension": ".py",
   "mimetype": "text/x-python",
   "name": "python",
   "nbconvert_exporter": "python",
   "pygments_lexer": "ipython3",
   "version": "3.9.8"
  }
 },
 "nbformat": 4,
 "nbformat_minor": 5
}
