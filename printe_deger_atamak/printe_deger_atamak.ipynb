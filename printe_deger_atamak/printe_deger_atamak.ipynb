{
 "cells": [
  {
   "cell_type": "code",
   "execution_count": 1,
   "id": "c355ee98",
   "metadata": {},
   "outputs": [
    {
     "data": {
      "text/plain": [
       "<function print>"
      ]
     },
     "execution_count": 1,
     "metadata": {},
     "output_type": "execute_result"
    }
   ],
   "source": [
    "#bir fonksiyona deger atayabilir miyiz?\n",
    "print"
   ]
  },
  {
   "cell_type": "code",
   "execution_count": 2,
   "id": "4fd2ecde",
   "metadata": {},
   "outputs": [
    {
     "name": "stdout",
     "output_type": "stream",
     "text": [
      "oguzhan\n"
     ]
    }
   ],
   "source": [
    "print(\"oguzhan\")"
   ]
  },
  {
   "cell_type": "code",
   "execution_count": 3,
   "id": "b48a1886",
   "metadata": {},
   "outputs": [],
   "source": [
    "print = \"oguzhan\""
   ]
  },
  {
   "cell_type": "code",
   "execution_count": 4,
   "id": "084e2243",
   "metadata": {},
   "outputs": [
    {
     "data": {
      "text/plain": [
       "('oguzhan', 'oguzhan', 'oguzhan')"
      ]
     },
     "execution_count": 4,
     "metadata": {},
     "output_type": "execute_result"
    }
   ],
   "source": [
    "print,print,print"
   ]
  },
  {
   "cell_type": "code",
   "execution_count": null,
   "id": "a65e17fb",
   "metadata": {},
   "outputs": [],
   "source": [
    "?????????????????????????"
   ]
  }
 ],
 "metadata": {
  "kernelspec": {
   "display_name": "Python 3",
   "language": "python",
   "name": "python3"
  },
  "language_info": {
   "codemirror_mode": {
    "name": "ipython",
    "version": 3
   },
   "file_extension": ".py",
   "mimetype": "text/x-python",
   "name": "python",
   "nbconvert_exporter": "python",
   "pygments_lexer": "ipython3",
   "version": "3.9.8"
  }
 },
 "nbformat": 4,
 "nbformat_minor": 5
}
