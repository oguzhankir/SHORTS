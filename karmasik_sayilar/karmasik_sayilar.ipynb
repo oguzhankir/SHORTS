{
 "cells": [
  {
   "cell_type": "code",
   "execution_count": 2,
   "id": "4042595a",
   "metadata": {},
   "outputs": [
    {
     "name": "stdout",
     "output_type": "stream",
     "text": [
      "(3+5j) (3+8j)\n"
     ]
    }
   ],
   "source": [
    "#farklı şekilde iki karmaşık\n",
    "#sayı tanımlayalım\n",
    "sayı1 = 3 + 5j\n",
    "sayı2 = complex(3,8)\n",
    "\n",
    "print(sayı1, sayı2)"
   ]
  },
  {
   "cell_type": "code",
   "execution_count": 3,
   "id": "9443ccc0",
   "metadata": {},
   "outputs": [
    {
     "name": "stdout",
     "output_type": "stream",
     "text": [
      "<class 'complex'> <class 'complex'>\n"
     ]
    }
   ],
   "source": [
    "print(type(sayı1), type(sayı2))"
   ]
  },
  {
   "cell_type": "code",
   "execution_count": 4,
   "id": "b1131b08",
   "metadata": {},
   "outputs": [
    {
     "name": "stdout",
     "output_type": "stream",
     "text": [
      "3.0 3.0\n"
     ]
    }
   ],
   "source": [
    "#sayıların reel kısmı\n",
    "print(sayı1.real, sayı2.real)"
   ]
  },
  {
   "cell_type": "code",
   "execution_count": 5,
   "id": "79e5dcb0",
   "metadata": {},
   "outputs": [
    {
     "name": "stdout",
     "output_type": "stream",
     "text": [
      "5.0 8.0\n"
     ]
    }
   ],
   "source": [
    "#sayıların sanal kısmı\n",
    "print(sayı1.imag, sayı2.imag)"
   ]
  },
  {
   "cell_type": "code",
   "execution_count": 6,
   "id": "cef112b7",
   "metadata": {},
   "outputs": [
    {
     "name": "stdout",
     "output_type": "stream",
     "text": [
      "sayı1 + sayı2 = (6+13j)\n",
      "sayı1 - sayı2 = -3j\n",
      "sayı1 * sayı2 = (-31+39j)\n",
      "sayı1 / sayı2 = (0.6712328767123288-0.1232876712328767j)\n"
     ]
    }
   ],
   "source": [
    "#sayılar arasında matematiksel işlemler \n",
    "#yapılabilir\n",
    "print(f\"sayı1 + sayı2 = {sayı1 + sayı2}\")\n",
    "print(f\"sayı1 - sayı2 = {sayı1 - sayı2}\")\n",
    "print(f\"sayı1 * sayı2 = {sayı1 * sayı2}\")\n",
    "print(f\"sayı1 / sayı2 = {sayı1 / sayı2}\")"
   ]
  },
  {
   "cell_type": "code",
   "execution_count": 7,
   "id": "1981d2ce",
   "metadata": {},
   "outputs": [
    {
     "name": "stdout",
     "output_type": "stream",
     "text": [
      "e^(5 + 9j =  (-135.22372052026284+61.163806319297684j)\n",
      "sin(5 + 9j) =  (-3885.1219980627084+1149.2692304406407j)\n"
     ]
    }
   ],
   "source": [
    "#cmath ile bazı karmaşık sayı işlemleri\n",
    "import cmath\n",
    "sayı = 5 + 9j\n",
    "print(\"e^(5 + 9j = \", cmath.exp(sayı))\n",
    "print(\"sin(5 + 9j) = \", cmath.sin(sayı))"
   ]
  },
  {
   "cell_type": "code",
   "execution_count": null,
   "id": "f79e528a",
   "metadata": {},
   "outputs": [],
   "source": []
  }
 ],
 "metadata": {
  "kernelspec": {
   "display_name": "Python 3 (ipykernel)",
   "language": "python",
   "name": "python3"
  },
  "language_info": {
   "codemirror_mode": {
    "name": "ipython",
    "version": 3
   },
   "file_extension": ".py",
   "mimetype": "text/x-python",
   "name": "python",
   "nbconvert_exporter": "python",
   "pygments_lexer": "ipython3",
   "version": "3.9.7"
  }
 },
 "nbformat": 4,
 "nbformat_minor": 5
}
