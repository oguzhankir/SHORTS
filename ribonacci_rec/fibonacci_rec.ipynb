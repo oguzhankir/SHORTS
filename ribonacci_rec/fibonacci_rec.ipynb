{
 "cells": [
  {
   "cell_type": "code",
   "execution_count": 3,
   "id": "21e938a3",
   "metadata": {},
   "outputs": [
    {
     "name": "stdout",
     "output_type": "stream",
     "text": [
      "[0, 1, 1, 2, 3, 5, 8, 13, 21, 34, 55, 89, 144]\n"
     ]
    }
   ],
   "source": [
    "def fibonacci(n):\n",
    "    #n =0sa durdurup 0 döndürüyoruz\n",
    "\n",
    "    if n==0:\n",
    "        return 0\n",
    "\n",
    "    #n = 1 veya 2 ise durdurup 1 dönsün\n",
    "    if n==1 or n == 2:\n",
    "        return 1\n",
    "\n",
    "    #recursion\n",
    "    else:\n",
    "        return (fibonacci(n-1)+\n",
    "                    fibonacci(n-2))\n",
    "\n",
    "\"\"\"\n",
    "--Fonksiyon açıklaması--\n",
    "(fib(n-1)+ fib(n-2))\n",
    "n=3 için\n",
    "\n",
    ">>>(fib(2)+fib(1))\n",
    ">>>(fib(1) + fib(0)) + fib(1)\n",
    ">>> (1+0) +1 =2\n",
    "\"\"\"\n",
    "n = 13\n",
    "\n",
    "#n=13 n=12 diye tek tek yollayalım\n",
    "\n",
    "fib = [fibonacci(i) for i in range(0,n)]\n",
    "\n",
    "print(fib)\n"
   ]
  },
  {
   "cell_type": "code",
   "execution_count": null,
   "id": "d34a0ac0",
   "metadata": {},
   "outputs": [],
   "source": [
    "#izlediğiniz için teşekkürler"
   ]
  }
 ],
 "metadata": {
  "kernelspec": {
   "display_name": "Python 3",
   "language": "python",
   "name": "python3"
  },
  "language_info": {
   "codemirror_mode": {
    "name": "ipython",
    "version": 3
   },
   "file_extension": ".py",
   "mimetype": "text/x-python",
   "name": "python",
   "nbconvert_exporter": "python",
   "pygments_lexer": "ipython3",
   "version": "3.9.8"
  }
 },
 "nbformat": 4,
 "nbformat_minor": 5
}
