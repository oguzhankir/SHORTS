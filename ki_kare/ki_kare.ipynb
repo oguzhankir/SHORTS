{
 "cells": [
  {
   "cell_type": "markdown",
   "metadata": {},
   "source": [
    "$X^2=\\sum_{i=1}^{n}\\frac{(Gözlenen-Beklenen)^2}{Beklenen}$\n",
    "\n",
    "Beklenen =$\\frac{Satır Toplamı * Sütun toplamı}{Genel toplam}$\n",
    "\n",
    "Serbestlik derecesi =(Satır-1) * (Sütun-1)\n",
    "\n",
    "$(X_tablo)$^2= $(X_SerbestlikD,\\alpha)^2$\n",
    "\n",
    "$X^2 > $(X_tablo)$^2$ ise ilişki var\n",
    "\n",
    "$X^2 < $(X_tablo)$^2$ ise ilişki yok\n",
    "\n"
   ]
  },
  {
   "cell_type": "code",
   "execution_count": 2,
   "metadata": {},
   "outputs": [
    {
     "name": "stdout",
     "output_type": "stream",
     "text": [
      "         düşük  normal  yüksek\n",
      "1.Bölge     25      32      36\n",
      "2.Bölge     21      36      22\n"
     ]
    }
   ],
   "source": [
    "#importlar\n",
    "from scipy.stats import chi2_contingency\n",
    "from scipy.stats import chi2\n",
    "import pandas as pd\n",
    "\n",
    "\"\"\"\n",
    "---------------------------\n",
    "Veri: iki farklı bölgede doğan çocuklar\n",
    "düşük, normal ve yüksek ağırlık\n",
    "kategorilerine göre ayrılmıştır.\n",
    "\n",
    "---------------------------\n",
    "Bebeklerin doğum ağırlıkları ile\n",
    "doğdukları bölge arasında\n",
    "bir ilişki var mıdır?\n",
    "\n",
    "\"\"\"\n",
    "veri = pd.DataFrame({\n",
    "    \"1.Bölge\": [25, 32, 36],\n",
    "    \"2.Bölge\": [21, 36, 22]\n",
    "}, index=[\"düşük\",\"normal\",\"yüksek\"])\n",
    "veri = veri.T\n",
    "print(veri)"
   ]
  },
  {
   "cell_type": "code",
   "execution_count": 3,
   "metadata": {},
   "outputs": [
    {
     "name": "stdout",
     "output_type": "stream",
     "text": [
      "SerbestlikD.:2\n",
      "beklenen:\n",
      "[[24.87209302 36.76744186 31.36046512]\n",
      " [21.12790698 31.23255814 26.63953488]]\n",
      "ilişki yoktur\n"
     ]
    }
   ],
   "source": [
    "X2, p, serbestlik_der, beklenen = \\\n",
    "        chi2_contingency(veri)\n",
    "\n",
    "alfa = 0.05\n",
    "\n",
    "X2_tablo = chi2.ppf((1-alfa), serbestlik_der)\n",
    "\n",
    "print(f\"SerbestlikD.:{serbestlik_der}\")\n",
    "print(f\"beklenen:\\n{beklenen}\")\n",
    "\n",
    "if X2 > X2_tablo:\n",
    "    print(\"ilişki vardır\")\n",
    "elif X2 < X2_tablo:\n",
    "    print(\"ilişki yoktur\")"
   ]
  },
  {
   "cell_type": "code",
   "execution_count": null,
   "metadata": {},
   "outputs": [],
   "source": [
    "#gördüğünüz gibi bölge ile çocuk ağırlıkları\n",
    "#arasında bir ilişki görülmedi\n",
    "\n",
    "#izlediğiniz için teşekkürler"
   ]
  }
 ],
 "metadata": {
  "interpreter": {
   "hash": "7f95aea7df05cc2b797c263d857fe10432edc47af65a5172f4d67c72cd746ff0"
  },
  "kernelspec": {
   "display_name": "Python 3.9.8 64-bit",
   "language": "python",
   "name": "python3"
  },
  "language_info": {
   "codemirror_mode": {
    "name": "ipython",
    "version": 3
   },
   "file_extension": ".py",
   "mimetype": "text/x-python",
   "name": "python",
   "nbconvert_exporter": "python",
   "pygments_lexer": "ipython3",
   "version": "3.9.8"
  },
  "orig_nbformat": 4
 },
 "nbformat": 4,
 "nbformat_minor": 2
}
