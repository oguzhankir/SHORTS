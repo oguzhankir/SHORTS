{
 "cells": [
  {
   "cell_type": "code",
   "execution_count": 1,
   "id": "db2082e4",
   "metadata": {},
   "outputs": [],
   "source": [
    "def liste_uzunlugu_getir(liste):\n",
    "    if liste == []:\n",
    "        return 0\n",
    "\n",
    "    else:\n",
    "        return 1 + liste_uzunlugu_getir(liste[1:])"
   ]
  },
  {
   "cell_type": "code",
   "execution_count": 2,
   "id": "e5f1f8eb",
   "metadata": {},
   "outputs": [
    {
     "data": {
      "text/plain": [
       "0"
      ]
     },
     "execution_count": 2,
     "metadata": {},
     "output_type": "execute_result"
    }
   ],
   "source": [
    "liste = []\n",
    "liste_uzunlugu_getir(liste)"
   ]
  },
  {
   "cell_type": "code",
   "execution_count": 3,
   "id": "78cf0d43",
   "metadata": {},
   "outputs": [],
   "source": [
    "for i in range(1500):\n",
    "    liste.append(i)"
   ]
  },
  {
   "cell_type": "code",
   "execution_count": 4,
   "id": "04dc33ba",
   "metadata": {},
   "outputs": [
    {
     "data": {
      "text/plain": [
       "1500"
      ]
     },
     "execution_count": 4,
     "metadata": {},
     "output_type": "execute_result"
    }
   ],
   "source": [
    "liste_uzunlugu_getir(liste)"
   ]
  },
  {
   "cell_type": "code",
   "execution_count": null,
   "id": "d4b9f090",
   "metadata": {},
   "outputs": [],
   "source": []
  }
 ],
 "metadata": {
  "kernelspec": {
   "display_name": "Python 3",
   "language": "python",
   "name": "python3"
  },
  "language_info": {
   "codemirror_mode": {
    "name": "ipython",
    "version": 3
   },
   "file_extension": ".py",
   "mimetype": "text/x-python",
   "name": "python",
   "nbconvert_exporter": "python",
   "pygments_lexer": "ipython3",
   "version": "3.9.7"
  }
 },
 "nbformat": 4,
 "nbformat_minor": 5
}
