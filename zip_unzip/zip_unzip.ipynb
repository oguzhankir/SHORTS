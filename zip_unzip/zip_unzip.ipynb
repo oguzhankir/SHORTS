{
 "cells": [
  {
   "cell_type": "code",
   "execution_count": 1,
   "id": "42701354",
   "metadata": {},
   "outputs": [
    {
     "name": "stdout",
     "output_type": "stream",
     "text": [
      "[('ali', 'su', 17), ('veli', 'ates', 32), ('ahmet', 'toprak', 56), ('mehmet', 'tahta', 36)]\n"
     ]
    }
   ],
   "source": [
    "\"\"\"\n",
    "zip iki listeyi kolayca birleştirmeye yarayan\n",
    "bir fonksiyondur\n",
    "\"\"\"\n",
    "isimler = [\"ali\", \"veli\", \"ahmet\", \"mehmet\"]\n",
    "soyisimler = [\"su\", \"ates\", \"toprak\", \"tahta\"]\n",
    "yaslar = [17, 32, 56, 36]\n",
    "\n",
    "print(list(zip(isimler, soyisimler, yaslar)))"
   ]
  },
  {
   "cell_type": "code",
   "execution_count": 2,
   "id": "c6dccb13",
   "metadata": {},
   "outputs": [
    {
     "name": "stdout",
     "output_type": "stream",
     "text": [
      "isim:ali, soyisim:su yas:17\n",
      "isim:veli, soyisim:ates yas:32\n",
      "isim:ahmet, soyisim:toprak yas:56\n",
      "isim:mehmet, soyisim:tahta yas:36\n"
     ]
    }
   ],
   "source": [
    "\"\"\"\n",
    "for döngüleri ile kullanıldığında çok\n",
    "daha okunaklı olur\n",
    "\"\"\"\n",
    "for isim, soyisim, yas in zip(isimler,\n",
    "                        soyisimler, yaslar):\n",
    "    print(f\"isim:{isim}, soyisim:{soyisim}\",\\\n",
    "                    f\"yas:{yas}\")\n",
    "                    \n"
   ]
  },
  {
   "cell_type": "code",
   "execution_count": 3,
   "id": "eb739a99",
   "metadata": {},
   "outputs": [
    {
     "name": "stdout",
     "output_type": "stream",
     "text": [
      "[('ali', 'su', 17), ('veli', 'ates', 32), ('ahmet', 'toprak', 56), ('mehmet', 'tahta', 36)] \n",
      "\n",
      "isimler:('ali', 'veli', 'ahmet', 'mehmet'),\n",
      " soyisimler:('su', 'ates', 'toprak', 'tahta')\n",
      "yaslar:(17, 32, 56, 36)\n"
     ]
    }
   ],
   "source": [
    "\"\"\"\n",
    "zip haline getirilmiş bir veriyi açmak için\n",
    "unzip kullanabiliriz\n",
    "\"\"\"\n",
    "zip_liste = list(zip(isimler, soyisimler, yaslar))\n",
    "\n",
    "isimler, soyisimler, yaslar = list(zip(*zip_liste))\n",
    "print(zip_liste, \"\\n\")\n",
    "print(f\"isimler:{isimler},\\n soyisimler:{soyisimler}\\n\"\\\n",
    "                f\"yaslar:{yaslar}\")"
   ]
  },
  {
   "cell_type": "code",
   "execution_count": null,
   "id": "1b38c178",
   "metadata": {},
   "outputs": [],
   "source": [
    "#izlediğiniz için teşekkürler"
   ]
  }
 ],
 "metadata": {
  "kernelspec": {
   "display_name": "Python 3",
   "language": "python",
   "name": "python3"
  },
  "language_info": {
   "codemirror_mode": {
    "name": "ipython",
    "version": 3
   },
   "file_extension": ".py",
   "mimetype": "text/x-python",
   "name": "python",
   "nbconvert_exporter": "python",
   "pygments_lexer": "ipython3",
   "version": "3.9.8"
  }
 },
 "nbformat": 4,
 "nbformat_minor": 5
}
