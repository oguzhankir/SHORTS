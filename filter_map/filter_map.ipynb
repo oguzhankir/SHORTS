{
 "cells": [
  {
   "cell_type": "code",
   "execution_count": 1,
   "id": "ea13d5c0",
   "metadata": {},
   "outputs": [
    {
     "name": "stdout",
     "output_type": "stream",
     "text": [
      "[9, 25, 49, 81]\n"
     ]
    }
   ],
   "source": [
    "\"\"\"\n",
    "--- map kullanımı ---\n",
    "\n",
    "bir listemiz olsun ve bu listedeki her sayının\n",
    "karesini almak isteyelim\n",
    "\"\"\"\n",
    "liste = [3, 5, 7, 9]\n",
    "\n",
    "\"\"\"\n",
    "normalde aşağıdaki şekilde boş bir liste oluşturup\n",
    "for loopu ile ekleriz\n",
    "\"\"\"\n",
    "kareler = []\n",
    "\n",
    "for sayi in liste:\n",
    "    kareler.append(sayi**2)\n",
    "\n",
    "print(kareler)\n",
    "\n",
    "\n"
   ]
  },
  {
   "cell_type": "code",
   "execution_count": 2,
   "id": "8c355480",
   "metadata": {},
   "outputs": [
    {
     "data": {
      "text/plain": [
       "[9, 25, 49, 81]"
      ]
     },
     "execution_count": 2,
     "metadata": {},
     "output_type": "execute_result"
    }
   ],
   "source": [
    "\"\"\"\n",
    "bu şekilde bir listenin bütün elemanlarına \n",
    "bir fonksiyon uygulamak istediğimizde\n",
    "map kullanabiliriz\n",
    "\"\"\"\n",
    "list(map(lambda x: x**2, liste))\n"
   ]
  },
  {
   "cell_type": "code",
   "execution_count": 3,
   "id": "ad6c5555",
   "metadata": {},
   "outputs": [
    {
     "data": {
      "text/plain": [
       "[9, 25, 49, 81]"
      ]
     },
     "execution_count": 3,
     "metadata": {},
     "output_type": "execute_result"
    }
   ],
   "source": [
    "\"\"\"\n",
    "yukarıdaki işlemi fonksiyon tanımlayarak\n",
    "yapalım. siz istediğiniz fonksiyonu \n",
    "uygulayabilirsiniz\n",
    "\"\"\"\n",
    "\n",
    "def kare_al(x):\n",
    "    return x**2\n",
    "\n",
    "list(map(kare_al, liste))"
   ]
  },
  {
   "cell_type": "code",
   "execution_count": 4,
   "id": "692eea2a",
   "metadata": {},
   "outputs": [
    {
     "name": "stdout",
     "output_type": "stream",
     "text": [
      "[54, 234, 34]\n"
     ]
    }
   ],
   "source": [
    "\"\"\"\n",
    "--- filter kullanımı ---\n",
    "listenin değerlerine filtreleme \n",
    "yapmak için kullanabiliriz\n",
    "\n",
    "\"\"\"\n",
    "sayilar = [-1 , 3, 54, 234, 12, 34]\n",
    "yirmiden_büyükler = list(filter(lambda x: x > 20,\n",
    "                            sayilar))\n",
    "\n",
    "print(yirmiden_büyükler)\n"
   ]
  },
  {
   "cell_type": "code",
   "execution_count": 5,
   "id": "e6db5e78",
   "metadata": {},
   "outputs": [],
   "source": [
    "#izlediğiniz için teşekkürler..."
   ]
  }
 ],
 "metadata": {
  "kernelspec": {
   "display_name": "Python 3",
   "language": "python",
   "name": "python3"
  },
  "language_info": {
   "codemirror_mode": {
    "name": "ipython",
    "version": 3
   },
   "file_extension": ".py",
   "mimetype": "text/x-python",
   "name": "python",
   "nbconvert_exporter": "python",
   "pygments_lexer": "ipython3",
   "version": "3.9.8"
  }
 },
 "nbformat": 4,
 "nbformat_minor": 5
}
