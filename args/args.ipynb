{
 "cells": [
  {
   "cell_type": "code",
   "execution_count": 1,
   "id": "6ab55047",
   "metadata": {},
   "outputs": [
    {
     "name": "stdout",
     "output_type": "stream",
     "text": [
      "oguzhan kır\n"
     ]
    }
   ],
   "source": [
    "\"\"\"\n",
    "args ve **kwargs\n",
    "fonksiyon tanımlarken kaç parametre alacağını\n",
    "önceden belirleriz örneğin:\n",
    "\"\"\"\n",
    "def tam_isim_yazdir(isim, soyisim):\n",
    "    print(isim, soyisim)\n",
    "\n",
    "tam_isim_yazdir(\"oguzhan\", \"kır\")"
   ]
  },
  {
   "cell_type": "code",
   "execution_count": 2,
   "id": "d57c4b56",
   "metadata": {},
   "outputs": [
    {
     "name": "stdout",
     "output_type": "stream",
     "text": [
      "('ahmet', 'mehmet', 'ali', 'veli...')\n"
     ]
    }
   ],
   "source": [
    "\"\"\"\n",
    "kaç parametre olacağı belli değilse o zaman özel\n",
    "işaretler ile fonksiyonun sınırsız parametre\n",
    "alabileceğini belirtmemiz gerekir\n",
    "\"\"\"\n",
    "def isimleri_yazdir(*isimler):\n",
    "    print(isimler)\n",
    "\n",
    "isimleri_yazdir(\"ahmet\",\"mehmet\",\"ali\",\"veli...\")"
   ]
  },
  {
   "cell_type": "code",
   "execution_count": 3,
   "id": "f7ed602c",
   "metadata": {},
   "outputs": [
    {
     "name": "stdout",
     "output_type": "stream",
     "text": [
      "('ahmet', 'mehmet', 'ali', 'veli...')\n"
     ]
    }
   ],
   "source": [
    "\"\"\"\n",
    "*isimler ile *args yapısının hiçbir farkı yoktur\n",
    "*args genel bir kullanımdır\n",
    "\n",
    "\"\"\"\n",
    "def isimleri_yazdir(*args):\n",
    "    print(args)\n",
    "\n",
    "isimleri_yazdir(\"ahmet\",\"mehmet\",\"ali\",\"veli...\")"
   ]
  },
  {
   "cell_type": "code",
   "execution_count": null,
   "id": "0ba01266",
   "metadata": {},
   "outputs": [],
   "source": [
    "#bir sonraki videoda ise **kwargs ı inceleyeceğiz..."
   ]
  }
 ],
 "metadata": {
  "kernelspec": {
   "display_name": "Python 3",
   "language": "python",
   "name": "python3"
  },
  "language_info": {
   "codemirror_mode": {
    "name": "ipython",
    "version": 3
   },
   "file_extension": ".py",
   "mimetype": "text/x-python",
   "name": "python",
   "nbconvert_exporter": "python",
   "pygments_lexer": "ipython3",
   "version": "3.9.8"
  }
 },
 "nbformat": 4,
 "nbformat_minor": 5
}
