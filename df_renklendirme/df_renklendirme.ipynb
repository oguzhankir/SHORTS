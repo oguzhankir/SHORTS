{
 "cells": [
  {
   "cell_type": "code",
   "execution_count": 1,
   "id": "b5433e4a",
   "metadata": {},
   "outputs": [],
   "source": [
    "#pip install Jinja2\n",
    "import pandas as pd"
   ]
  },
  {
   "cell_type": "code",
   "execution_count": 2,
   "id": "0467b824",
   "metadata": {},
   "outputs": [
    {
     "data": {
      "text/html": [
       "<div>\n",
       "<style scoped>\n",
       "    .dataframe tbody tr th:only-of-type {\n",
       "        vertical-align: middle;\n",
       "    }\n",
       "\n",
       "    .dataframe tbody tr th {\n",
       "        vertical-align: top;\n",
       "    }\n",
       "\n",
       "    .dataframe thead th {\n",
       "        text-align: right;\n",
       "    }\n",
       "</style>\n",
       "<table border=\"1\" class=\"dataframe\">\n",
       "  <thead>\n",
       "    <tr style=\"text-align: right;\">\n",
       "      <th></th>\n",
       "      <th>col1</th>\n",
       "      <th>col2</th>\n",
       "    </tr>\n",
       "  </thead>\n",
       "  <tbody>\n",
       "    <tr>\n",
       "      <th>0</th>\n",
       "      <td>23</td>\n",
       "      <td>3</td>\n",
       "    </tr>\n",
       "    <tr>\n",
       "      <th>1</th>\n",
       "      <td>-2</td>\n",
       "      <td>6</td>\n",
       "    </tr>\n",
       "    <tr>\n",
       "      <th>2</th>\n",
       "      <td>3</td>\n",
       "      <td>-5</td>\n",
       "    </tr>\n",
       "    <tr>\n",
       "      <th>3</th>\n",
       "      <td>-8</td>\n",
       "      <td>-2</td>\n",
       "    </tr>\n",
       "  </tbody>\n",
       "</table>\n",
       "</div>"
      ],
      "text/plain": [
       "   col1  col2\n",
       "0    23     3\n",
       "1    -2     6\n",
       "2     3    -5\n",
       "3    -8    -2"
      ]
     },
     "execution_count": 2,
     "metadata": {},
     "output_type": "execute_result"
    }
   ],
   "source": [
    "#bir df tanımlayıp yazdıralım\n",
    "df = pd.DataFrame({\"col1\": [23, -2, 3, -8],\n",
    "                    \"col2\": [3, 6, -5, -2]})\n",
    "\n",
    "df"
   ]
  },
  {
   "cell_type": "code",
   "execution_count": 3,
   "id": "eb74c0d5",
   "metadata": {},
   "outputs": [
    {
     "data": {
      "text/html": [
       "<style type=\"text/css\">\n",
       "#T_47db8_row0_col0, #T_47db8_row0_col1, #T_47db8_row1_col1, #T_47db8_row2_col0 {\n",
       "  color: red;\n",
       "}\n",
       "#T_47db8_row1_col0, #T_47db8_row2_col1, #T_47db8_row3_col0, #T_47db8_row3_col1 {\n",
       "  color: yellow;\n",
       "}\n",
       "</style>\n",
       "<table id=\"T_47db8\">\n",
       "  <thead>\n",
       "    <tr>\n",
       "      <th class=\"blank level0\" >&nbsp;</th>\n",
       "      <th id=\"T_47db8_level0_col0\" class=\"col_heading level0 col0\" >col1</th>\n",
       "      <th id=\"T_47db8_level0_col1\" class=\"col_heading level0 col1\" >col2</th>\n",
       "    </tr>\n",
       "  </thead>\n",
       "  <tbody>\n",
       "    <tr>\n",
       "      <th id=\"T_47db8_level0_row0\" class=\"row_heading level0 row0\" >0</th>\n",
       "      <td id=\"T_47db8_row0_col0\" class=\"data row0 col0\" >23</td>\n",
       "      <td id=\"T_47db8_row0_col1\" class=\"data row0 col1\" >3</td>\n",
       "    </tr>\n",
       "    <tr>\n",
       "      <th id=\"T_47db8_level0_row1\" class=\"row_heading level0 row1\" >1</th>\n",
       "      <td id=\"T_47db8_row1_col0\" class=\"data row1 col0\" >-2</td>\n",
       "      <td id=\"T_47db8_row1_col1\" class=\"data row1 col1\" >6</td>\n",
       "    </tr>\n",
       "    <tr>\n",
       "      <th id=\"T_47db8_level0_row2\" class=\"row_heading level0 row2\" >2</th>\n",
       "      <td id=\"T_47db8_row2_col0\" class=\"data row2 col0\" >3</td>\n",
       "      <td id=\"T_47db8_row2_col1\" class=\"data row2 col1\" >-5</td>\n",
       "    </tr>\n",
       "    <tr>\n",
       "      <th id=\"T_47db8_level0_row3\" class=\"row_heading level0 row3\" >3</th>\n",
       "      <td id=\"T_47db8_row3_col0\" class=\"data row3 col0\" >-8</td>\n",
       "      <td id=\"T_47db8_row3_col1\" class=\"data row3 col1\" >-2</td>\n",
       "    </tr>\n",
       "  </tbody>\n",
       "</table>\n"
      ],
      "text/plain": [
       "<pandas.io.formats.style.Styler at 0x1d7ac9b8b50>"
      ]
     },
     "execution_count": 3,
     "metadata": {},
     "output_type": "execute_result"
    }
   ],
   "source": [
    "#deger sıfırdan küçükse sarı,\n",
    "#büyükse kırmızı gözüksün\n",
    "def renk_degistir(deger):\n",
    "    color = \"yellow\" if deger < 0 else \"red\"\n",
    "    return \"color: %s\" % color\n",
    "\n",
    "#uygulayalım\n",
    "df.style.applymap(renk_degistir)"
   ]
  },
  {
   "cell_type": "code",
   "execution_count": 4,
   "id": "6db17d24",
   "metadata": {},
   "outputs": [
    {
     "data": {
      "text/html": [
       "<style type=\"text/css\">\n",
       "#T_c8835 tr:hover {\n",
       "  background-color: purple;\n",
       "}\n",
       "</style>\n",
       "<table id=\"T_c8835\">\n",
       "  <thead>\n",
       "    <tr>\n",
       "      <th class=\"blank level0\" >&nbsp;</th>\n",
       "      <th id=\"T_c8835_level0_col0\" class=\"col_heading level0 col0\" >col1</th>\n",
       "      <th id=\"T_c8835_level0_col1\" class=\"col_heading level0 col1\" >col2</th>\n",
       "    </tr>\n",
       "  </thead>\n",
       "  <tbody>\n",
       "    <tr>\n",
       "      <th id=\"T_c8835_level0_row0\" class=\"row_heading level0 row0\" >0</th>\n",
       "      <td id=\"T_c8835_row0_col0\" class=\"data row0 col0\" >23</td>\n",
       "      <td id=\"T_c8835_row0_col1\" class=\"data row0 col1\" >3</td>\n",
       "    </tr>\n",
       "    <tr>\n",
       "      <th id=\"T_c8835_level0_row1\" class=\"row_heading level0 row1\" >1</th>\n",
       "      <td id=\"T_c8835_row1_col0\" class=\"data row1 col0\" >-2</td>\n",
       "      <td id=\"T_c8835_row1_col1\" class=\"data row1 col1\" >6</td>\n",
       "    </tr>\n",
       "    <tr>\n",
       "      <th id=\"T_c8835_level0_row2\" class=\"row_heading level0 row2\" >2</th>\n",
       "      <td id=\"T_c8835_row2_col0\" class=\"data row2 col0\" >3</td>\n",
       "      <td id=\"T_c8835_row2_col1\" class=\"data row2 col1\" >-5</td>\n",
       "    </tr>\n",
       "    <tr>\n",
       "      <th id=\"T_c8835_level0_row3\" class=\"row_heading level0 row3\" >3</th>\n",
       "      <td id=\"T_c8835_row3_col0\" class=\"data row3 col0\" >-8</td>\n",
       "      <td id=\"T_c8835_row3_col1\" class=\"data row3 col1\" >-2</td>\n",
       "    </tr>\n",
       "  </tbody>\n",
       "</table>\n"
      ],
      "text/plain": [
       "<pandas.io.formats.style.Styler at 0x1d7ad7e7fa0>"
      ]
     },
     "execution_count": 4,
     "metadata": {},
     "output_type": "execute_result"
    }
   ],
   "source": [
    "#arka planı renklendirelim\n",
    "df.style.set_table_styles(\n",
    "[{\"selector\":\"tr:hover\",\n",
    "    \"props\": [(\"background-color\", \"purple\")]\n",
    "\n",
    "\n",
    "}]\n",
    ")"
   ]
  },
  {
   "cell_type": "code",
   "execution_count": null,
   "id": "ec4b60ac",
   "metadata": {},
   "outputs": [],
   "source": []
  }
 ],
 "metadata": {
  "kernelspec": {
   "display_name": "Python 3",
   "language": "python",
   "name": "python3"
  },
  "language_info": {
   "codemirror_mode": {
    "name": "ipython",
    "version": 3
   },
   "file_extension": ".py",
   "mimetype": "text/x-python",
   "name": "python",
   "nbconvert_exporter": "python",
   "pygments_lexer": "ipython3",
   "version": "3.9.8"
  }
 },
 "nbformat": 4,
 "nbformat_minor": 5
}
