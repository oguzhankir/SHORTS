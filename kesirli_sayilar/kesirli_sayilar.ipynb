{
 "cells": [
  {
   "cell_type": "code",
   "execution_count": 5,
   "id": "4d7db61c",
   "metadata": {},
   "outputs": [],
   "source": [
    "from fractions import Fraction"
   ]
  },
  {
   "cell_type": "code",
   "execution_count": 6,
   "id": "caba56ba",
   "metadata": {},
   "outputs": [],
   "source": [
    "#iki kesirli sayı tanımlayalım\n",
    "\n",
    "kesirli_sayi1 = Fraction(\"7/19\")\n",
    "kesirli_sayi2 = Fraction(\"1.73\")"
   ]
  },
  {
   "cell_type": "code",
   "execution_count": 7,
   "id": "3aeffa23",
   "metadata": {
    "scrolled": true
   },
   "outputs": [
    {
     "name": "stdout",
     "output_type": "stream",
     "text": [
      "7/19\n",
      "173/100\n"
     ]
    }
   ],
   "source": [
    "#ikisini de yazdiralim\n",
    "\n",
    "print(kesirli_sayi1)\n",
    "print(kesirli_sayi2)"
   ]
  },
  {
   "cell_type": "code",
   "execution_count": 8,
   "id": "c0652fa8",
   "metadata": {},
   "outputs": [
    {
     "name": "stdout",
     "output_type": "stream",
     "text": [
      "26/19\n"
     ]
    }
   ],
   "source": [
    "#birkaç matematiksel işlem yapalım\n",
    "print(kesirli_sayi1 + 1)"
   ]
  },
  {
   "cell_type": "code",
   "execution_count": 9,
   "id": "f0a5f399",
   "metadata": {},
   "outputs": [
    {
     "name": "stdout",
     "output_type": "stream",
     "text": [
      "14/19\n"
     ]
    }
   ],
   "source": [
    "print(kesirli_sayi1 * 2)"
   ]
  },
  {
   "cell_type": "code",
   "execution_count": 10,
   "id": "1db0d5f9",
   "metadata": {},
   "outputs": [
    {
     "name": "stdout",
     "output_type": "stream",
     "text": [
      "2401/130321\n"
     ]
    }
   ],
   "source": [
    "print(kesirli_sayi1 ** 4)"
   ]
  },
  {
   "cell_type": "code",
   "execution_count": 12,
   "id": "7a66573c",
   "metadata": {},
   "outputs": [
    {
     "name": "stdout",
     "output_type": "stream",
     "text": [
      "(7, 19)\n"
     ]
    }
   ],
   "source": [
    "#pay ve paydasını ayrı ayrı yazdıralım\n",
    "print(kesirli_sayi1.as_integer_ratio())"
   ]
  },
  {
   "cell_type": "code",
   "execution_count": 13,
   "id": "219d2161",
   "metadata": {},
   "outputs": [
    {
     "name": "stdout",
     "output_type": "stream",
     "text": [
      "1211/1900\n"
     ]
    }
   ],
   "source": [
    "#iki kesirli sayı ile işlem yapalım\n",
    "\n",
    "kesirli_sayi3 = kesirli_sayi1 * kesirli_sayi2\n",
    "print(kesirli_sayi3)"
   ]
  },
  {
   "cell_type": "code",
   "execution_count": null,
   "id": "c97894a8",
   "metadata": {},
   "outputs": [],
   "source": []
  }
 ],
 "metadata": {
  "kernelspec": {
   "display_name": "Python 3 (ipykernel)",
   "language": "python",
   "name": "python3"
  },
  "language_info": {
   "codemirror_mode": {
    "name": "ipython",
    "version": 3
   },
   "file_extension": ".py",
   "mimetype": "text/x-python",
   "name": "python",
   "nbconvert_exporter": "python",
   "pygments_lexer": "ipython3",
   "version": "3.9.7"
  }
 },
 "nbformat": 4,
 "nbformat_minor": 5
}
