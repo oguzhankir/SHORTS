{
 "cells": [
  {
   "cell_type": "code",
   "execution_count": 18,
   "metadata": {},
   "outputs": [],
   "source": [
    "import string\n",
    "import random"
   ]
  },
  {
   "cell_type": "code",
   "execution_count": 19,
   "metadata": {},
   "outputs": [],
   "source": [
    " def rastgele_parola_oluştur(parola_uzunlugu):\n",
    "   karakterler = string.ascii_letters + string.digits + string.punctuation \n",
    "   parola = ''\n",
    "   for karakter in range(parola_uzunlugu):\n",
    "       rastgele_karakter = random.choice(karakterler)\n",
    "       parola = parola + rastgele_karakter\n",
    "   return parola\n"
   ]
  },
  {
   "cell_type": "code",
   "execution_count": 20,
   "metadata": {},
   "outputs": [
    {
     "name": "stdout",
     "output_type": "stream",
     "text": [
      "Parolanız: :@UsZI@D\n"
     ]
    }
   ],
   "source": [
    "parola_uzunlugu = int(input('Parolanız kaç karakterden oluşsun?'))\n",
    "parola = rastgele_parola_oluştur(parola_uzunlugu)\n",
    "print(f\"Parolanız: {parola}\")"
   ]
  },
  {
   "cell_type": "code",
   "execution_count": 21,
   "metadata": {},
   "outputs": [
    {
     "name": "stdout",
     "output_type": "stream",
     "text": [
      "Letters \n",
      " abcdefghijklmnopqrstuvwxyzABCDEFGHIJKLMNOPQRSTUVWXYZ \n",
      "\n",
      "Digits \n",
      " 0123456789 \n",
      " \n",
      "Punctuations \n",
      " !\"#$%&'()*+,-./:;<=>?@[\\]^_`{|}~ \n",
      "\n"
     ]
    }
   ],
   "source": [
    "print(f'Letters \\n {string.ascii_letters} \\n')\n",
    "print(f'Digits \\n {string.digits} \\n ')\n",
    "print(f'Punctuations \\n {string.punctuation } \\n')\n",
    "\n"
   ]
  },
  {
   "cell_type": "code",
   "execution_count": null,
   "metadata": {},
   "outputs": [],
   "source": []
  }
 ],
 "metadata": {
  "interpreter": {
   "hash": "4c07af664187405cb696f2a27e13bb16171bfcce316b9012b7927c8cb330f47f"
  },
  "kernelspec": {
   "display_name": "Python 3.9.7 64-bit ('base': conda)",
   "language": "python",
   "name": "python3"
  },
  "language_info": {
   "codemirror_mode": {
    "name": "ipython",
    "version": 3
   },
   "file_extension": ".py",
   "mimetype": "text/x-python",
   "name": "python",
   "nbconvert_exporter": "python",
   "pygments_lexer": "ipython3",
   "version": "3.9.7"
  },
  "orig_nbformat": 4
 },
 "nbformat": 4,
 "nbformat_minor": 2
}
