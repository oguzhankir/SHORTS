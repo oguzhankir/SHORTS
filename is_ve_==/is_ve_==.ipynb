{
 "cells": [
  {
   "cell_type": "code",
   "execution_count": 1,
   "id": "af805e0b",
   "metadata": {},
   "outputs": [],
   "source": [
    "liste1 = [\"a\", \"b\", \"c\"]\n",
    "liste2 = [\"a\", \"b\", \"c\"]"
   ]
  },
  {
   "cell_type": "code",
   "execution_count": 2,
   "id": "090d5aed",
   "metadata": {},
   "outputs": [
    {
     "name": "stdout",
     "output_type": "stream",
     "text": [
      "True\n"
     ]
    }
   ],
   "source": [
    "print(liste1 == liste2)\n",
    "#bu iki listesnin değerleri aynı mı?"
   ]
  },
  {
   "cell_type": "code",
   "execution_count": 3,
   "id": "ec0fabae",
   "metadata": {},
   "outputs": [
    {
     "name": "stdout",
     "output_type": "stream",
     "text": [
      "False\n"
     ]
    }
   ],
   "source": [
    "print(liste1 is liste2)\n",
    "#bu iki liste hafızada aynı nesneyi mi tanımlıyor?"
   ]
  },
  {
   "cell_type": "code",
   "execution_count": 4,
   "id": "55cc4b3e",
   "metadata": {},
   "outputs": [],
   "source": [
    "#yeni bir liste tanımlayıp liste1 e eşitleyeilm\n",
    "liste3 = liste1"
   ]
  },
  {
   "cell_type": "code",
   "execution_count": 5,
   "id": "b3940822",
   "metadata": {},
   "outputs": [
    {
     "name": "stdout",
     "output_type": "stream",
     "text": [
      "True\n"
     ]
    }
   ],
   "source": [
    "print(liste3 is liste1)"
   ]
  },
  {
   "cell_type": "code",
   "execution_count": null,
   "id": "9ccc0ba1",
   "metadata": {},
   "outputs": [],
   "source": [
    "#ikisi de hafızada aynı nesne olduğu için true döndürdü"
   ]
  }
 ],
 "metadata": {
  "kernelspec": {
   "display_name": "Python 3 (ipykernel)",
   "language": "python",
   "name": "python3"
  },
  "language_info": {
   "codemirror_mode": {
    "name": "ipython",
    "version": 3
   },
   "file_extension": ".py",
   "mimetype": "text/x-python",
   "name": "python",
   "nbconvert_exporter": "python",
   "pygments_lexer": "ipython3",
   "version": "3.9.7"
  }
 },
 "nbformat": 4,
 "nbformat_minor": 5
}
