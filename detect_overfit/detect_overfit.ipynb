{
 "cells": [
  {
   "cell_type": "code",
   "execution_count": 1,
   "metadata": {},
   "outputs": [
    {
     "data": {
      "image/png": "[encoded data removed]",
      "text/plain": [
       "<Figure size 432x288 with 1 Axes>"
      ]
     },
     "metadata": {
      "needs_background": "dark"
     },
     "output_type": "display_data"
    }
   ],
   "source": [
    "#kütüphaneleri import\n",
    "from sklearn.ensemble \\\n",
    "    import RandomForestClassifier\n",
    "\n",
    "from sklearn.datasets \\\n",
    "    import make_classification\n",
    "\n",
    "from sklearn.model_selection \\\n",
    "    import train_test_split\n",
    "\n",
    "from sklearn.metrics import \\\n",
    "    accuracy_score\n",
    "\n",
    "import matplotlib.pyplot as plt\n",
    "\n",
    "#sınıflandırma verisi oluşturma\n",
    "X, y = make_classification(n_samples=10000, \n",
    "                n_features=20, \n",
    "                n_informative=5,\n",
    "                 n_redundant=15,\n",
    "                  random_state=1)\n",
    "\n",
    "#train ve test verilerini ayırma\n",
    "X_train, X_test, y_train, y_test = \\\n",
    "    train_test_split(\n",
    "    X, y, test_size=0.33, random_state=0)\n",
    "\n",
    "#overfit yapmak için max_depth parametreleri\n",
    "max_depth_param = range(1,20,1)\n",
    "\n",
    "#train ve test accuracy'leri için boş listeler\n",
    "test_acc = []\n",
    "train_acc = []\n",
    "\n",
    "#her max_depth parametresi için döngü\n",
    "for i in max_depth_param:\n",
    "    #model oluşturalım\n",
    "    rf = RandomForestClassifier(max_depth=i)\n",
    "\n",
    "    #modeli eğitelim\n",
    "    rf.fit(X_train, y_train)\n",
    "\n",
    "    #train seti için tahminler\n",
    "    y_pred_train = rf.predict(X_train)\n",
    "\n",
    "    #tahminleri accuracy listesine ekleme\n",
    "    train_acc.append(accuracy_score(y_train,\n",
    "                             y_pred_train))\n",
    "\n",
    "    #test seti için tahminler\n",
    "    y_pred_test = rf.predict(X_test)\n",
    "\n",
    "    #tahminleri accuracy listesine ekleme\n",
    "    test_acc.append(accuracy_score(y_test, \n",
    "                                y_pred_test))\n",
    "\n",
    "#öğrenme eğrisini çizme\n",
    "fig = plt.figure()\n",
    "ax = fig.add_subplot(111)\n",
    "\n",
    "ax.plot(max_depth_param, \n",
    "    train_acc, \n",
    "    label =\"train\")\n",
    "\n",
    "ax.plot(max_depth_param, \n",
    "    test_acc, \n",
    "    label=\"test\")\n",
    "\n",
    "\n",
    "ax.tick_params(axis='x', colors='white')\n",
    "ax.tick_params(axis='y', colors='white')\n",
    "plt.legend()\n",
    "plt.show()\n"
   ]
  },
  {
   "cell_type": "code",
   "execution_count": null,
   "metadata": {},
   "outputs": [],
   "source": [
    "#gördüğünüz gibi bir yerden sonra\n",
    "#test ve train accuracy'leri birbirinden\n",
    "#ayrılıyor. bu durum aşırı öğrenme yani\n",
    "#overfit durumu.\n",
    "\n",
    "#izlediğiniz için teşekkürler"
   ]
  }
 ],
 "metadata": {
  "interpreter": {
   "hash": "7f95aea7df05cc2b797c263d857fe10432edc47af65a5172f4d67c72cd746ff0"
  },
  "kernelspec": {
   "display_name": "Python 3.9.8 64-bit",
   "language": "python",
   "name": "python3"
  },
  "language_info": {
   "codemirror_mode": {
    "name": "ipython",
    "version": 3
   },
   "file_extension": ".py",
   "mimetype": "text/x-python",
   "name": "python",
   "nbconvert_exporter": "python",
   "pygments_lexer": "ipython3",
   "version": "3.9.8"
  },
  "orig_nbformat": 4
 },
 "nbformat": 4,
 "nbformat_minor": 2
}
