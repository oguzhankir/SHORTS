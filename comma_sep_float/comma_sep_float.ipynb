{
 "cells": [
  {
   "cell_type": "code",
   "execution_count": 3,
   "metadata": {},
   "outputs": [
    {
     "data": {
      "text/html": [
       "<div>\n",
       "<style scoped>\n",
       "    .dataframe tbody tr th:only-of-type {\n",
       "        vertical-align: middle;\n",
       "    }\n",
       "\n",
       "    .dataframe tbody tr th {\n",
       "        vertical-align: top;\n",
       "    }\n",
       "\n",
       "    .dataframe thead th {\n",
       "        text-align: right;\n",
       "    }\n",
       "</style>\n",
       "<table border=\"1\" class=\"dataframe\">\n",
       "  <thead>\n",
       "    <tr style=\"text-align: right;\">\n",
       "      <th></th>\n",
       "      <th>A</th>\n",
       "      <th>B</th>\n",
       "      <th>C</th>\n",
       "    </tr>\n",
       "  </thead>\n",
       "  <tbody>\n",
       "    <tr>\n",
       "      <th>0</th>\n",
       "      <td>0,3</td>\n",
       "      <td>1,2</td>\n",
       "      <td>a</td>\n",
       "    </tr>\n",
       "    <tr>\n",
       "      <th>1</th>\n",
       "      <td>3,4</td>\n",
       "      <td>6,4</td>\n",
       "      <td>b</td>\n",
       "    </tr>\n",
       "    <tr>\n",
       "      <th>2</th>\n",
       "      <td>8,4</td>\n",
       "      <td>3,1</td>\n",
       "      <td>c</td>\n",
       "    </tr>\n",
       "  </tbody>\n",
       "</table>\n",
       "</div>"
      ],
      "text/plain": [
       "     A    B  C\n",
       "0  0,3  1,2  a\n",
       "1  3,4  6,4  b\n",
       "2  8,4  3,1  c"
      ]
     },
     "execution_count": 3,
     "metadata": {},
     "output_type": "execute_result"
    }
   ],
   "source": [
    "import pandas as pd\n",
    "\n",
    "#verimize bakalım\n",
    "df = pd.DataFrame({\n",
    "    \"A\":[\"0,3\", \"3,4\", \"8,4\"],\n",
    "    \"B\": [\"1,2\", \"6,4\", \"3,1\"],\n",
    "    \"C\": [\"a\",\"b\",\"c\"]\n",
    "})\n",
    "df"
   ]
  },
  {
   "cell_type": "code",
   "execution_count": 4,
   "metadata": {},
   "outputs": [
    {
     "name": "stdout",
     "output_type": "stream",
     "text": [
      "<class 'pandas.core.frame.DataFrame'>\n",
      "RangeIndex: 3 entries, 0 to 2\n",
      "Data columns (total 3 columns):\n",
      " #   Column  Non-Null Count  Dtype \n",
      "---  ------  --------------  ----- \n",
      " 0   A       3 non-null      object\n",
      " 1   B       3 non-null      object\n",
      " 2   C       3 non-null      object\n",
      "dtypes: object(3)\n",
      "memory usage: 200.0+ bytes\n"
     ]
    }
   ],
   "source": [
    "#A ve B deki değerleri nokta ile\n",
    "#ayrılmış tamsayıya çevirmek istiyoruz\n",
    "df.info()"
   ]
  },
  {
   "cell_type": "code",
   "execution_count": 5,
   "metadata": {},
   "outputs": [],
   "source": [
    "#ayrıca veritipi de object\n",
    "#fonksiyonumuzu tanımlayalım\n",
    "def convert_float(series):\n",
    "    \"\"\"\n",
    "    değerlere ve indekslerine\n",
    "    erişebilmek için for döngüsü\n",
    "    \"\"\"\n",
    "    for count, i  in enumerate(series):\n",
    "        \"\"\"\n",
    "        eksik verilerin hata\n",
    "        vermesini önlemek için \n",
    "        try, except\n",
    "        \"\"\"\n",
    "\n",
    "        try:\n",
    "            \"\"\"\n",
    "            virgül ile ayırıp sağ ve\n",
    "            sol kısmı değişkene atamak\n",
    "            \"\"\"\n",
    "            a,b = map(str, i.split(\",\"))\n",
    "\n",
    "            \"\"\"iki kısmı birleştirmek\"\"\"\n",
    "            a = a + '.'+ b\n",
    "            i = a\n",
    "\n",
    "            \"\"\"serideki değerleri\n",
    "            değiştirmek\n",
    "            \"\"\"\n",
    "            series[count] = a\n",
    "\n",
    "            \"\"\"\n",
    "            değerleri floata çevirmek\n",
    "            \"\"\"\n",
    "            series = \\\n",
    "                series.astype(float,\n",
    "                 errors = 'raise')\n",
    "\n",
    "            return series\n",
    "\n",
    "        except:\n",
    "            pass\n",
    "\n",
    "\"\"\"\n",
    "şimdi kolonlarımızı fonksiyona \n",
    "yollayalım\n",
    "\"\"\"\n",
    "df[\"A\"], df[\"B\"], =\\\n",
    "     convert_float(df[\"A\"]),\\\n",
    "      convert_float(df[\"B\"])"
   ]
  },
  {
   "cell_type": "code",
   "execution_count": 6,
   "metadata": {},
   "outputs": [
    {
     "data": {
      "text/html": [
       "<div>\n",
       "<style scoped>\n",
       "    .dataframe tbody tr th:only-of-type {\n",
       "        vertical-align: middle;\n",
       "    }\n",
       "\n",
       "    .dataframe tbody tr th {\n",
       "        vertical-align: top;\n",
       "    }\n",
       "\n",
       "    .dataframe thead th {\n",
       "        text-align: right;\n",
       "    }\n",
       "</style>\n",
       "<table border=\"1\" class=\"dataframe\">\n",
       "  <thead>\n",
       "    <tr style=\"text-align: right;\">\n",
       "      <th></th>\n",
       "      <th>A</th>\n",
       "      <th>B</th>\n",
       "      <th>C</th>\n",
       "    </tr>\n",
       "  </thead>\n",
       "  <tbody>\n",
       "    <tr>\n",
       "      <th>0</th>\n",
       "      <td>0.3</td>\n",
       "      <td>1.2</td>\n",
       "      <td>a</td>\n",
       "    </tr>\n",
       "    <tr>\n",
       "      <th>1</th>\n",
       "      <td>3.4</td>\n",
       "      <td>6.4</td>\n",
       "      <td>b</td>\n",
       "    </tr>\n",
       "    <tr>\n",
       "      <th>2</th>\n",
       "      <td>8.4</td>\n",
       "      <td>3.1</td>\n",
       "      <td>c</td>\n",
       "    </tr>\n",
       "  </tbody>\n",
       "</table>\n",
       "</div>"
      ],
      "text/plain": [
       "     A    B  C\n",
       "0  0.3  1.2  a\n",
       "1  3.4  6.4  b\n",
       "2  8.4  3.1  c"
      ]
     },
     "execution_count": 6,
     "metadata": {},
     "output_type": "execute_result"
    }
   ],
   "source": [
    "df"
   ]
  },
  {
   "cell_type": "code",
   "execution_count": 7,
   "metadata": {},
   "outputs": [
    {
     "name": "stdout",
     "output_type": "stream",
     "text": [
      "<class 'pandas.core.frame.DataFrame'>\n",
      "RangeIndex: 3 entries, 0 to 2\n",
      "Data columns (total 3 columns):\n",
      " #   Column  Non-Null Count  Dtype  \n",
      "---  ------  --------------  -----  \n",
      " 0   A       3 non-null      float64\n",
      " 1   B       3 non-null      float64\n",
      " 2   C       3 non-null      object \n",
      "dtypes: float64(2), object(1)\n",
      "memory usage: 200.0+ bytes\n"
     ]
    }
   ],
   "source": [
    "df.info()"
   ]
  },
  {
   "cell_type": "code",
   "execution_count": null,
   "metadata": {},
   "outputs": [],
   "source": [
    "\"\"\"\n",
    "gördüğünüz gibi değerler dönüştürüldü ve\n",
    "veritipi olarak float64 oldu\n",
    "\n",
    "bütün videolarımda kullandığım \n",
    "notebook ları videoların açıklama\n",
    "kısmında bulabilirsiniz\n",
    "\n",
    "izlediğiniz için teşekkürler\n",
    "\"\"\""
   ]
  }
 ],
 "metadata": {
  "interpreter": {
   "hash": "7f95aea7df05cc2b797c263d857fe10432edc47af65a5172f4d67c72cd746ff0"
  },
  "kernelspec": {
   "display_name": "Python 3.9.8 64-bit",
   "language": "python",
   "name": "python3"
  },
  "language_info": {
   "codemirror_mode": {
    "name": "ipython",
    "version": 3
   },
   "file_extension": ".py",
   "mimetype": "text/x-python",
   "name": "python",
   "nbconvert_exporter": "python",
   "pygments_lexer": "ipython3",
   "version": "3.9.8"
  },
  "orig_nbformat": 4
 },
 "nbformat": 4,
 "nbformat_minor": 2
}
