{
 "cells": [
  {
   "cell_type": "code",
   "execution_count": 25,
   "id": "21e938a3",
   "metadata": {},
   "outputs": [
    {
     "data": {
      "text/plain": [
       "720"
      ]
     },
     "execution_count": 25,
     "metadata": {},
     "output_type": "execute_result"
    }
   ],
   "source": [
    "def faktöriyel(n):\n",
    "\n",
    "\t#n 0 ve 1 faktöriyel = 1 \n",
    "\tif (n == 0 or n == 1):\n",
    "\t\treturn 1;\n",
    "\n",
    "\t#recursion\n",
    "\telse:\n",
    "\t\treturn n * faktöriyel(n - 1);\n",
    "\"\"\"\n",
    "--Fonksiyon açıklaması--\n",
    "faktöriyel(4) için\n",
    ">>> 4*(faktöriyel(3))\n",
    ">>> 4*3*(faktöriyel(2))\n",
    ">>> 4*3*2(faktöriyel(1))\n",
    ">>> 4*3*2*1\n",
    "\"\"\"\n",
    "\n",
    "faktöriyel(6)"
   ]
  },
  {
   "cell_type": "code",
   "execution_count": null,
   "id": "6f037bc9",
   "metadata": {},
   "outputs": [],
   "source": []
  }
 ],
 "metadata": {
  "kernelspec": {
   "display_name": "Python 3",
   "language": "python",
   "name": "python3"
  },
  "language_info": {
   "codemirror_mode": {
    "name": "ipython",
    "version": 3
   },
   "file_extension": ".py",
   "mimetype": "text/x-python",
   "name": "python",
   "nbconvert_exporter": "python",
   "pygments_lexer": "ipython3",
   "version": "3.9.8"
  }
 },
 "nbformat": 4,
 "nbformat_minor": 5
}
