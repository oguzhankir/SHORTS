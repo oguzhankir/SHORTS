{
 "cells": [
  {
   "cell_type": "code",
   "execution_count": 1,
   "id": "75f58206",
   "metadata": {},
   "outputs": [],
   "source": [
    "def üce_bese_bolunebilir_mi(sayilar):\n",
    "    sonuc = []\n",
    "    for sayi in sayilar:\n",
    "        if int(sayi) % 3 == 0 and int(sayi) % 5 == 0:\n",
    "            sonuc.append(sayi)\n",
    "            \n",
    "    print(sonuc)"
   ]
  },
  {
   "cell_type": "code",
   "execution_count": 2,
   "id": "9b40e5a1",
   "metadata": {},
   "outputs": [],
   "source": [
    "sayilar = []"
   ]
  },
  {
   "cell_type": "code",
   "execution_count": 3,
   "id": "2b1565f4",
   "metadata": {},
   "outputs": [
    {
     "name": "stdout",
     "output_type": "stream",
     "text": [
      "Sayıları virgül ile ayırarak giriniz: 16545,1535,875,9585,15,3545,3125,45895,365,45215,3545\n"
     ]
    }
   ],
   "source": [
    "input_sayi = sayilar.append(input(\"Sayıları virgül \" \\\n",
    "                            \"ile ayırarak giriniz: \").split(\",\"))"
   ]
  },
  {
   "cell_type": "code",
   "execution_count": 4,
   "id": "ebc48baf",
   "metadata": {},
   "outputs": [
    {
     "data": {
      "text/plain": [
       "[['16545',\n",
       "  '1535',\n",
       "  '875',\n",
       "  '9585',\n",
       "  '15',\n",
       "  '3545',\n",
       "  '3125',\n",
       "  '45895',\n",
       "  '365',\n",
       "  '45215',\n",
       "  '3545']]"
      ]
     },
     "execution_count": 4,
     "metadata": {},
     "output_type": "execute_result"
    }
   ],
   "source": [
    "sayilar #iki parantez olmasına dikkkat"
   ]
  },
  {
   "cell_type": "code",
   "execution_count": 5,
   "id": "e992a5ac",
   "metadata": {},
   "outputs": [
    {
     "name": "stdout",
     "output_type": "stream",
     "text": [
      "['16545', '9585', '15']\n"
     ]
    }
   ],
   "source": [
    "#iki parantez olduğu için sayilar[0] şeklinde yolluyoruz\n",
    "\n",
    "sonuc = üce_bese_bolunebilir_mi(sayilar[0])"
   ]
  },
  {
   "cell_type": "code",
   "execution_count": null,
   "id": "fe6fdedc",
   "metadata": {},
   "outputs": [],
   "source": [
    "#hem 3e hem 5e bölünebilen sayıları yazdırdı"
   ]
  }
 ],
 "metadata": {
  "kernelspec": {
   "display_name": "Python 3 (ipykernel)",
   "language": "python",
   "name": "python3"
  },
  "language_info": {
   "codemirror_mode": {
    "name": "ipython",
    "version": 3
   },
   "file_extension": ".py",
   "mimetype": "text/x-python",
   "name": "python",
   "nbconvert_exporter": "python",
   "pygments_lexer": "ipython3",
   "version": "3.9.7"
  }
 },
 "nbformat": 4,
 "nbformat_minor": 5
}
