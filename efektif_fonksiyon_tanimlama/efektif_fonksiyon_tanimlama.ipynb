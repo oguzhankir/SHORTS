{
 "cells": [
  {
   "cell_type": "code",
   "execution_count": 1,
   "id": "4f7ea6a2",
   "metadata": {},
   "outputs": [],
   "source": [
    "#python ile efektif fonksiyon tanımlama\n",
    "#kötü kullanım\n",
    "\n",
    "def fonksiyon(x: int) -> bool:\n",
    "    if x > 0:\n",
    "        return True\n",
    "    else:\n",
    "        return False"
   ]
  },
  {
   "cell_type": "code",
   "execution_count": 2,
   "id": "097e5f03",
   "metadata": {},
   "outputs": [],
   "source": [
    "#şimdi daha temiz şekilde tanımlayalım\n",
    "def fonksiyon2(x: int) -> bool:\n",
    "    return x>0\n",
    "\n",
    "#bu şekilde daha temiz bir kod oldu"
   ]
  },
  {
   "cell_type": "code",
   "execution_count": 3,
   "id": "6ac2cce5",
   "metadata": {},
   "outputs": [
    {
     "name": "stdout",
     "output_type": "stream",
     "text": [
      "True\n",
      "True\n"
     ]
    }
   ],
   "source": [
    "#şimdi deneyelim\n",
    "print(fonksiyon(3))\n",
    "print(fonksiyon2(3))"
   ]
  },
  {
   "cell_type": "code",
   "execution_count": null,
   "id": "7d9278d6",
   "metadata": {},
   "outputs": [],
   "source": []
  }
 ],
 "metadata": {
  "kernelspec": {
   "display_name": "Python 3 (ipykernel)",
   "language": "python",
   "name": "python3"
  },
  "language_info": {
   "codemirror_mode": {
    "name": "ipython",
    "version": 3
   },
   "file_extension": ".py",
   "mimetype": "text/x-python",
   "name": "python",
   "nbconvert_exporter": "python",
   "pygments_lexer": "ipython3",
   "version": "3.9.7"
  }
 },
 "nbformat": 4,
 "nbformat_minor": 5
}
