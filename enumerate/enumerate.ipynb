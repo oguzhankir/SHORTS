{
 "cells": [
  {
   "cell_type": "code",
   "execution_count": 1,
   "id": "23f9527d",
   "metadata": {},
   "outputs": [
    {
     "name": "stdout",
     "output_type": "stream",
     "text": [
      "0 elma\n",
      "1 armut\n",
      "2 muz\n",
      "3 üzüm\n"
     ]
    }
   ],
   "source": [
    "\"\"\"\n",
    "Enumarete pythonda bir built-in fonksiyondur.\n",
    "Bir veride döngü oluşturmamızı ve döngüde\n",
    "sayacımızın olmasını sağlar. Örneğin:\n",
    "\"\"\"\n",
    "meyveler = [\"elma\", \"armut\", \"muz\", \"üzüm\"]\n",
    "\n",
    "for sayac, meyve in enumerate(meyveler):\n",
    "    print(sayac, meyve)"
   ]
  },
  {
   "cell_type": "code",
   "execution_count": 2,
   "id": "770672e9",
   "metadata": {},
   "outputs": [
    {
     "name": "stdout",
     "output_type": "stream",
     "text": [
      "1 elma\n",
      "2 armut\n",
      "3 muz\n",
      "4 üzüm\n"
     ]
    }
   ],
   "source": [
    "\"\"\"\n",
    "Ayrıca sayacın kaçtan başlayacağını\n",
    "bir parametre olarak tanımlayabiliriz.\n",
    "\"\"\"\n",
    "for sayac, meyve in enumerate(meyveler, 1):\n",
    "    print(sayac, meyve)"
   ]
  },
  {
   "cell_type": "code",
   "execution_count": 3,
   "id": "1af877e8",
   "metadata": {},
   "outputs": [
    {
     "name": "stdout",
     "output_type": "stream",
     "text": [
      "[(1, 'elma'), (2, 'armut'), (3, 'muz'), (4, 'üzüm')]\n"
     ]
    }
   ],
   "source": [
    "\"\"\"\n",
    "indeks ve değerlerin olduğu yeni listeler oluşturmak\n",
    "için de kullanabilirsiniz\n",
    "\"\"\"\n",
    "yeni_liste = list(enumerate(meyveler, 1))\n",
    "print(yeni_liste)"
   ]
  },
  {
   "cell_type": "code",
   "execution_count": 4,
   "id": "b99a68dc",
   "metadata": {},
   "outputs": [],
   "source": [
    "#izlediğiniz için teşekkürler"
   ]
  }
 ],
 "metadata": {
  "kernelspec": {
   "display_name": "Python 3",
   "language": "python",
   "name": "python3"
  },
  "language_info": {
   "codemirror_mode": {
    "name": "ipython",
    "version": 3
   },
   "file_extension": ".py",
   "mimetype": "text/x-python",
   "name": "python",
   "nbconvert_exporter": "python",
   "pygments_lexer": "ipython3",
   "version": "3.9.8"
  }
 },
 "nbformat": 4,
 "nbformat_minor": 5
}
