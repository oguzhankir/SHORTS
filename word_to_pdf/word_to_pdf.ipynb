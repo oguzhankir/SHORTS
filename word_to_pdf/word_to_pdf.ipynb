{
 "cells": [
  {
   "cell_type": "code",
   "execution_count": 3,
   "id": "fb6d64d2",
   "metadata": {},
   "outputs": [],
   "source": [
    "#!pip install docx2pdf\n",
    "from docx2pdf import convert"
   ]
  },
  {
   "cell_type": "code",
   "execution_count": 4,
   "id": "4a10033c",
   "metadata": {},
   "outputs": [],
   "source": [
    "#dönüştüreceğiniz word dosya yolunu ve\n",
    "#dönüşecek pdf dosyasının dosya yolunu\n",
    "#ayarlayın\n",
    "word_dosyasi = r\"C:\\Users\\maest\\Desktop\\word.docx\"\n",
    "pdf_dosyasi = r\"C:\\Users\\maest\\Desktop\\pdf.pdf\""
   ]
  },
  {
   "cell_type": "code",
   "execution_count": 5,
   "id": "4e687f3d",
   "metadata": {},
   "outputs": [
    {
     "name": "stderr",
     "output_type": "stream",
     "text": [
      "100%|██████████| 1/1 [00:02<00:00,  2.88s/it]\n"
     ]
    }
   ],
   "source": [
    "#word dosyasını pdf dosyasına çevirelim\n",
    "convert(word_dosyasi, pdf_dosyasi)"
   ]
  },
  {
   "cell_type": "code",
   "execution_count": null,
   "id": "9115ebfd",
   "metadata": {},
   "outputs": [],
   "source": []
  }
 ],
 "metadata": {
  "kernelspec": {
   "display_name": "Python 3",
   "language": "python",
   "name": "python3"
  },
  "language_info": {
   "codemirror_mode": {
    "name": "ipython",
    "version": 3
   },
   "file_extension": ".py",
   "mimetype": "text/x-python",
   "name": "python",
   "nbconvert_exporter": "python",
   "pygments_lexer": "ipython3",
   "version": "3.9.8"
  }
 },
 "nbformat": 4,
 "nbformat_minor": 5
}
