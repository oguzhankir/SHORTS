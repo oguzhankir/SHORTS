{
 "cells": [
  {
   "cell_type": "markdown",
   "id": "105cac41",
   "metadata": {},
   "source": [
    "**Denklem** = $ a x^2+b x+ c $\n",
    "\n",
    "**Diskriminant** = $ b^2-4ac $\n",
    "\n",
    "**Kök1** = $ \\frac{-b-\\sqrt{Diskriminant}}{2*a}$\n",
    "\n",
    "**Kök2** = $ \\frac{-b+\\sqrt{Diskriminant}}{2*a}$"
   ]
  },
  {
   "cell_type": "code",
   "execution_count": 1,
   "id": "f801b7a8",
   "metadata": {},
   "outputs": [],
   "source": [
    "import math"
   ]
  },
  {
   "cell_type": "code",
   "execution_count": 2,
   "id": "a2eb4cc7",
   "metadata": {},
   "outputs": [],
   "source": [
    "def denklemi_cöz(a, b, c):\n",
    "    diskriminant = (b**2) - (4*a*c)\n",
    "    \n",
    "    if diskriminant < 0:\n",
    "        print(\"Reel kök yoktur.\")\n",
    "        \n",
    "    else:\n",
    "        kök1 = (-b - (math.sqrt(diskriminant))) / (2*a)\n",
    "        kök2 = (-b + (math.sqrt(diskriminant))) / (2*a)\n",
    "        \n",
    "        print(f\"Kök1 = {kök1}, Kök2 = {kök2}\")"
   ]
  },
  {
   "cell_type": "code",
   "execution_count": 3,
   "id": "b57edf9d",
   "metadata": {},
   "outputs": [
    {
     "name": "stdout",
     "output_type": "stream",
     "text": [
      "a katsayısını giriniz: 1\n",
      "b katsayısını giriniz: 5\n",
      "c katsayısını giriniz: 4\n",
      "Kök1 = -4.0, Kök2 = -1.0\n"
     ]
    }
   ],
   "source": [
    "a = float(input(\"a katsayısını giriniz: \"))\n",
    "b = float(input(\"b katsayısını giriniz: \"))\n",
    "c = float(input(\"c katsayısını giriniz: \"))\n",
    "\n",
    "denklemi_cöz(a, b, c)"
   ]
  },
  {
   "cell_type": "code",
   "execution_count": null,
   "id": "92c7ca69",
   "metadata": {},
   "outputs": [],
   "source": []
  }
 ],
 "metadata": {
  "kernelspec": {
   "display_name": "Python 3 (ipykernel)",
   "language": "python",
   "name": "python3"
  },
  "language_info": {
   "codemirror_mode": {
    "name": "ipython",
    "version": 3
   },
   "file_extension": ".py",
   "mimetype": "text/x-python",
   "name": "python",
   "nbconvert_exporter": "python",
   "pygments_lexer": "ipython3",
   "version": "3.9.7"
  }
 },
 "nbformat": 4,
 "nbformat_minor": 5
}
